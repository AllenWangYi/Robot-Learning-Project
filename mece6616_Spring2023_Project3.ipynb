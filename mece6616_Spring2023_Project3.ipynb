{
  "cells": [
    {
      "cell_type": "markdown",
      "metadata": {
        "id": "view-in-github",
        "colab_type": "text"
      },
      "source": [
        "<a href=\"https://colab.research.google.com/github/AllenWangYi/test/blob/main/mece6616_Spring2023_Project4_yw3956.ipynb\" target=\"_parent\"><img src=\"https://colab.research.google.com/assets/colab-badge.svg\" alt=\"Open In Colab\"/></a>"
      ]
    },
    {
      "cell_type": "markdown",
      "metadata": {
        "id": "B3yx4xOgKm_l"
      },
      "source": [
        "# ***Important***\n",
        "\n",
        "**Before starting, make sure to read the [Assignment Instructions](https://courseworks2.columbia.edu/courses/172081/pages/assignment-instructions) page on Courseworks2 to learn the workflow for completing this project.**\n",
        "\n",
        "<ins> Different from project 1 and 2</ins>, apart from the link to your notebook, you are also required to submit 2 additional files namely the collected data `data.pkl` and your chosen model checkpoint `dynamic.pth`."
      ]
    },
    {
      "cell_type": "markdown",
      "metadata": {
        "id": "jCleXWNaK8ef"
      },
      "source": [
        "## Project Setup"
      ]
    },
    {
      "cell_type": "code",
      "execution_count": null,
      "metadata": {
        "id": "xm8CaL4aY2am",
        "colab": {
          "base_uri": "https://localhost:8080/"
        },
        "outputId": "6804f5c4-4664-42a9-b75d-0689d09064a3"
      },
      "outputs": [
        {
          "output_type": "stream",
          "name": "stdout",
          "text": [
            "Cloning into 'mecs6616_sp23_project4'...\n",
            "remote: Enumerating objects: 15, done.\u001b[K\n",
            "remote: Counting objects: 100% (15/15), done.\u001b[K\n",
            "remote: Compressing objects: 100% (15/15), done.\u001b[K\n",
            "remote: Total 15 (delta 5), reused 6 (delta 0), pack-reused 0\u001b[K\n",
            "Unpacking objects: 100% (15/15), 8.63 KiB | 981.00 KiB/s, done.\n"
          ]
        }
      ],
      "source": [
        "# DO NOT CHANGE\n",
        "\n",
        "# After running this cell, the folder 'mecs6616_sp23_project3' will show up in the file explorer on the left (click on the folder icon if it's not open)\n",
        "# It may take a few seconds to appear\n",
        "!git clone https://github.com/roamlab/mecs6616_sp23_project4.git"
      ]
    },
    {
      "cell_type": "code",
      "source": [
        "# DO NOT CHANGE\n",
        "\n",
        "# move all needed files into the working directory. This is simply to make accessing files easier\n",
        "!mv /content/mecs6616_sp23_project4/* /content/"
      ],
      "metadata": {
        "id": "KVOBvh6GvAgP"
      },
      "execution_count": null,
      "outputs": []
    },
    {
      "cell_type": "code",
      "execution_count": null,
      "metadata": {
        "id": "j8Cj2R4NyzSg",
        "colab": {
          "base_uri": "https://localhost:8080/"
        },
        "outputId": "6f07554e-385b-446f-8bd9-bf69d92af328"
      },
      "outputs": [
        {
          "output_type": "stream",
          "name": "stdout",
          "text": [
            "Looking in indexes: https://pypi.org/simple, https://us-python.pkg.dev/colab-wheels/public/simple/\n",
            "Collecting ray\n",
            "  Downloading ray-2.3.1-cp39-cp39-manylinux2014_x86_64.whl (58.6 MB)\n",
            "\u001b[2K     \u001b[90m━━━━━━━━━━━━━━━━━━━━━━━━━━━━━━━━━━━━━━━━\u001b[0m \u001b[32m58.6/58.6 MB\u001b[0m \u001b[31m7.2 MB/s\u001b[0m eta \u001b[36m0:00:00\u001b[0m\n",
            "\u001b[?25hRequirement already satisfied: numpy>=1.19.3 in /usr/local/lib/python3.9/dist-packages (from ray) (1.22.4)\n",
            "Collecting virtualenv>=20.0.24\n",
            "  Downloading virtualenv-20.21.0-py3-none-any.whl (8.7 MB)\n",
            "\u001b[2K     \u001b[90m━━━━━━━━━━━━━━━━━━━━━━━━━━━━━━━━━━━━━━━━\u001b[0m \u001b[32m8.7/8.7 MB\u001b[0m \u001b[31m25.2 MB/s\u001b[0m eta \u001b[36m0:00:00\u001b[0m\n",
            "\u001b[?25hRequirement already satisfied: click>=7.0 in /usr/local/lib/python3.9/dist-packages (from ray) (8.1.3)\n",
            "Requirement already satisfied: grpcio>=1.32.0 in /usr/local/lib/python3.9/dist-packages (from ray) (1.53.0)\n",
            "Requirement already satisfied: jsonschema in /usr/local/lib/python3.9/dist-packages (from ray) (4.3.3)\n",
            "Requirement already satisfied: msgpack<2.0.0,>=1.0.0 in /usr/local/lib/python3.9/dist-packages (from ray) (1.0.5)\n",
            "Requirement already satisfied: requests in /usr/local/lib/python3.9/dist-packages (from ray) (2.27.1)\n",
            "Collecting frozenlist\n",
            "  Downloading frozenlist-1.3.3-cp39-cp39-manylinux_2_5_x86_64.manylinux1_x86_64.manylinux_2_17_x86_64.manylinux2014_x86_64.whl (158 kB)\n",
            "\u001b[2K     \u001b[90m━━━━━━━━━━━━━━━━━━━━━━━━━━━━━━━━━━━━━━━\u001b[0m \u001b[32m158.8/158.8 kB\u001b[0m \u001b[31m7.9 MB/s\u001b[0m eta \u001b[36m0:00:00\u001b[0m\n",
            "\u001b[?25hRequirement already satisfied: filelock in /usr/local/lib/python3.9/dist-packages (from ray) (3.11.0)\n",
            "Requirement already satisfied: pyyaml in /usr/local/lib/python3.9/dist-packages (from ray) (6.0)\n",
            "Requirement already satisfied: attrs in /usr/local/lib/python3.9/dist-packages (from ray) (22.2.0)\n",
            "Collecting aiosignal\n",
            "  Downloading aiosignal-1.3.1-py3-none-any.whl (7.6 kB)\n",
            "Requirement already satisfied: protobuf!=3.19.5,>=3.15.3 in /usr/local/lib/python3.9/dist-packages (from ray) (3.20.3)\n",
            "Requirement already satisfied: platformdirs<4,>=2.4 in /usr/local/lib/python3.9/dist-packages (from virtualenv>=20.0.24->ray) (3.2.0)\n",
            "Collecting distlib<1,>=0.3.6\n",
            "  Downloading distlib-0.3.6-py2.py3-none-any.whl (468 kB)\n",
            "\u001b[2K     \u001b[90m━━━━━━━━━━━━━━━━━━━━━━━━━━━━━━━━━━━━━━\u001b[0m \u001b[32m468.5/468.5 kB\u001b[0m \u001b[31m16.8 MB/s\u001b[0m eta \u001b[36m0:00:00\u001b[0m\n",
            "\u001b[?25hRequirement already satisfied: pyrsistent!=0.17.0,!=0.17.1,!=0.17.2,>=0.14.0 in /usr/local/lib/python3.9/dist-packages (from jsonschema->ray) (0.19.3)\n",
            "Requirement already satisfied: charset-normalizer~=2.0.0 in /usr/local/lib/python3.9/dist-packages (from requests->ray) (2.0.12)\n",
            "Requirement already satisfied: urllib3<1.27,>=1.21.1 in /usr/local/lib/python3.9/dist-packages (from requests->ray) (1.26.15)\n",
            "Requirement already satisfied: idna<4,>=2.5 in /usr/local/lib/python3.9/dist-packages (from requests->ray) (3.4)\n",
            "Requirement already satisfied: certifi>=2017.4.17 in /usr/local/lib/python3.9/dist-packages (from requests->ray) (2022.12.7)\n",
            "Installing collected packages: distlib, virtualenv, frozenlist, aiosignal, ray\n",
            "Successfully installed aiosignal-1.3.1 distlib-0.3.6 frozenlist-1.3.3 ray-2.3.1 virtualenv-20.21.0\n"
          ]
        }
      ],
      "source": [
        "!pip install ray"
      ]
    },
    {
      "cell_type": "markdown",
      "metadata": {
        "id": "tIoNAwGQpHfH"
      },
      "source": [
        "# Starter Code Explanation\n",
        "\n",
        "This project uses the same environment as in project 3 which consists of an n linked robot arm. We provide code for teacher dynamics and the controller. We also provide scripts for collecting data, skeleton classes for implementing student dynamics and finally training and evaluating the model.\n",
        "\n",
        "Similar to last time we define a Robot class inside `robot.py` which provides the interface for controlling the robot arm i.e it provides you with some functions to set/get the state and set the action for the arm and take a step using the `Robot.advance()` method. The state of the arm is a 2n-dimensional vector : n joint positions [rad] + n joint velocities [rad/s] and the action is defined as the n torques (in N-m) applied to n joints respectively.\n",
        "\n",
        "In `arm_dynamic_base.py` we define the base class for forward dynamics for the arm. The ground truth forward dynamics are defined in `arm_dynamics_teacher.py`. The student dynamics which internally uses a neural network model is defined in `arm_dynamics_student.py`\n",
        "\n",
        "You are welcome to look in-depth to understand how the ground truth forward dynamics is computed for an arm, given its number of links, link mass, and viscous friction of the environment - however this is not necessary to successfully complete this assignment.\n",
        "\n",
        "\n",
        "The `models.py` file provides the base class for neural network to learn forward model and also contains skeleton code for you to implement the network architecture for arms with different number of links. We will revisit this again in when providing instructions for training below."
      ]
    },
    {
      "cell_type": "markdown",
      "metadata": {
        "id": "AfEtTP6Gob6m"
      },
      "source": [
        "## Part 1: Implement Model Predictive Control\n",
        "\n",
        "You will implement this controller by completing the MPC class. Specifically, you will implement the compute_action() method by following the algorithm discussed in the lecture. As with previous projects you are free to implement additional methods as needed or change the initialization if need be. While scoring your controller, you will be creating an instance of the MPC class and passing it to the scoring function so ensure that the arguments to the compute_action method remain the same.\n",
        "\n",
        "Although you do not need to understand how the ArmDynamicsTeacher class works, you could use the compute_fk() method from the class. This will allow you to convert from the state value (represented as array of shape (2*n, 1) where n is num_links) to final end effector position (x, y position of the end effector). Similary we can also compute the velocity of the end effector with the code below:\n",
        "```\n",
        "pos_ee = dynamics.compute_fk(state)\n",
        "vel_ee = dynamics.compute_vel_ee(state)\n",
        "```\n"
      ]
    },
    {
      "cell_type": "code",
      "execution_count": null,
      "metadata": {
        "id": "dgR69Xg9RsOT"
      },
      "outputs": [],
      "source": [
        "import numpy as np\n",
        "import math\n",
        "class MPC:\n",
        "\n",
        "    def __init__(self, control_horizon=60, planning_horizon=100, delta=0.05, weight=0.1):\n",
        "        self.control_horizon = control_horizon\n",
        "        self.planning_horizon = planning_horizon\n",
        "        self.delta = delta\n",
        "        self.weight = weight\n",
        "\n",
        "    def cost_function(self, action, dynamics, state, goal):\n",
        "        temp_state = np.copy(state)\n",
        "        total_cost = 0\n",
        "        for i in range(self.planning_horizon):\n",
        "            temp_state = dynamics.advance(temp_state, action)\n",
        "            pos_ee = dynamics.compute_fk(temp_state)\n",
        "            dist = np.linalg.norm(goal - pos_ee)\n",
        "            vel_ee = np.linalg.norm(dynamics.compute_vel_ee(temp_state))\n",
        "            total_cost += dist + self.weight * vel_ee\n",
        "        return total_cost\n",
        "\n",
        "    def compute_action(self, dynamics, state, goal, action):\n",
        "        best_action = action\n",
        "        best_cost = float('inf')\n",
        "        action_dim = dynamics.get_action_dim()\n",
        "        np.random.seed(0)\n",
        "        for _ in range(self.control_horizon):\n",
        "\n",
        "            random_action = np.random.uniform(-self.delta, self.delta, (action_dim, 1)) + best_action\n",
        "            random_action = np.clip(random_action, -1.5, 1.5)\n",
        "            cost = self.cost_function(random_action, dynamics, state, goal)\n",
        "\n",
        "            if cost < best_cost:\n",
        "                best_cost = cost\n",
        "                best_action = random_action\n",
        "        np.random.seed(0)\n",
        "        return best_action\n"
      ]
    },
    {
      "cell_type": "markdown",
      "metadata": {
        "id": "br5wyFnGRxgg"
      },
      "source": [
        "# Manually testing the controller\n",
        "This part is for you to manually check the performance of your controller before you are ready for it be evaluated by our scoring function.\n",
        "To test your implementation run the following code. Feel free to play around with the cell or change the num_links / goal positions . You can define your controller however you would like to and then switch on gui to see how close your end effectors get to the goal position\n",
        "\n",
        "Every time step within the environment is 0.01s, which is defined in the dynamics as `dt`.\n",
        "\n",
        "The MPC class has a `control_horizon` variable which represents the frequency at which `controller.compute_action()` will be called\n",
        "\n",
        "In the scoring function you will be evaluated on the distance of your end effector to the goal position and the velocity of the end effector."
      ]
    },
    {
      "cell_type": "code",
      "execution_count": null,
      "metadata": {
        "id": "bZ0GFCoLpJ9A",
        "colab": {
          "base_uri": "https://localhost:8080/"
        },
        "outputId": "0d88e28a-d85c-4317-d90f-7df84b6e4cc5"
      },
      "outputs": [
        {
          "output_type": "stream",
          "name": "stdout",
          "text": [
            "At timestep 0: Distance to goal: 3.3970575502926055, Velocity of end effector: 5.539171676143414e-18\n",
            "At timestep 60: Distance to goal: 2.3123364159051505, Velocity of end effector: 0.3863159823927478\n",
            "At timestep 120: Distance to goal: 2.110260268588327, Velocity of end effector: 0.8025894278982855\n",
            "At timestep 180: Distance to goal: 1.6785461018263146, Velocity of end effector: 0.8213174309316876\n",
            "At timestep 240: Distance to goal: 1.3170364821671412, Velocity of end effector: 0.17621588469938193\n"
          ]
        }
      ],
      "source": [
        "import sys\n",
        "import numpy as np\n",
        "from arm_dynamics_teacher import ArmDynamicsTeacher\n",
        "from robot import Robot\n",
        "from render import Renderer\n",
        "from score import *\n",
        "import torch\n",
        "import time\n",
        "import math\n",
        "np.set_printoptions(suppress=True)\n",
        "\n",
        "# Teacher arm with 3 links\n",
        "dynamics_teacher = ArmDynamicsTeacher(\n",
        "    num_links=3,\n",
        "    link_mass=0.1,\n",
        "    link_length=1,\n",
        "    joint_viscous_friction=0.1,\n",
        "    dt=0.01)\n",
        "\n",
        "arm = Robot(dynamics_teacher)\n",
        "arm.reset()\n",
        "\n",
        "gui = False\n",
        "\n",
        "if gui:\n",
        "  renderer = Renderer()\n",
        "  time.sleep(1)\n",
        "\n",
        "# Controller\n",
        "controller = MPC()\n",
        "\n",
        "# Resetting the arm will set its state so that it is in the vertical position,\n",
        "# and set the action to be zeros\n",
        "arm.reset()\n",
        "action = np.zeros((arm.dynamics.get_action_dim(), 1))\n",
        "# Choose the goal position you would like to see the performance of your controller\n",
        "goal = np.zeros((2, 1))\n",
        "goal[0, 0] = 2.5\n",
        "goal[1, 0] = -0.7\n",
        "arm.goal = goal\n",
        "\n",
        "dt = 0.01\n",
        "time_limit = 2.5\n",
        "num_steps = round(time_limit/dt)\n",
        "\n",
        "# Control loop\n",
        "for s in range(num_steps):\n",
        "  t = time.time()\n",
        "  arm.advance()\n",
        "\n",
        "  if gui:\n",
        "    renderer.plot([(arm, \"tab:blue\")])\n",
        "  time.sleep(max(0, dt - (time.time() - t)))\n",
        "\n",
        "  if s % controller.control_horizon==0:\n",
        "    state = arm.get_state()\n",
        "\n",
        "    # Measuring distance and velocity of end effector\n",
        "    pos_ee = dynamics_teacher.compute_fk(state)\n",
        "    dist = np.linalg.norm(goal-pos_ee)\n",
        "    vel_ee = np.linalg.norm(arm.dynamics.compute_vel_ee(state))\n",
        "    print(f'At timestep {s}: Distance to goal: {dist}, Velocity of end effector: {vel_ee}')\n",
        "\n",
        "    action = controller.compute_action(arm.dynamics, state, goal, action)\n",
        "    arm.set_action(action)"
      ]
    },
    {
      "cell_type": "markdown",
      "metadata": {
        "id": "lVIGZZimCNI4"
      },
      "source": [
        "## Grading and Evaluation for Part 1\n",
        "Your controller will be graded on 6 tests. 2 tests each for the 1-link ,2-link, and 3-link arms. The arm will start off in the initial state with the arms pointing stright down. The testing criteria depend on the distance and the velocity of the end effectors . Each test will run the robot arm for **5.0 seconds**. At the end of the 5 seconds the test will be:\n",
        "\n",
        "A success if your end effectors meet this criteria:\n",
        "`distance_to_goal < 0.1 and vel_ee < 0.5`\n",
        "\n",
        "A partial success if your end effectors meet this criteria:\n",
        "`distance_to_goal < 0.2 and vel_ee < 0.5`\n"
      ]
    },
    {
      "cell_type": "code",
      "execution_count": null,
      "metadata": {
        "id": "IXswattzCLyC"
      },
      "outputs": [],
      "source": [
        "# Scoring using score_mpc\n",
        "controller = MPC()\n",
        "gui = False"
      ]
    },
    {
      "cell_type": "code",
      "source": [
        "# DO NOT CHANGE\n",
        "score_mpc_true_dynamics(controller, gui)"
      ],
      "metadata": {
        "id": "B5iMweqC1SsB",
        "colab": {
          "base_uri": "https://localhost:8080/"
        },
        "outputId": "e9fa2f7b-86ff-42cd-a3ae-5e22c928a340"
      },
      "execution_count": null,
      "outputs": [
        {
          "output_type": "stream",
          "name": "stdout",
          "text": [
            "\n",
            "Part1: EVALUATING CONTROLLER (with perfect dynamics)\n",
            "-----------------------------------------------------\n",
            "NUM_LINKS: 1\n",
            "Test  1\n",
            "Success! :)\n",
            " Goal: [ 0.38941834 -0.92106099], Final position: [ 0.39130513 -0.92026099], Final velocity: [0.]\n",
            "score: 1.5/1.5\n",
            "Test  2\n",
            "Success! :)\n",
            " Goal: [-0.68163876 -0.73168887], Final position: [-0.67951247 -0.73366396], Final velocity: [0.]\n",
            "score: 1.0/1.0\n",
            "NUM_LINKS: 2\n",
            "Test  1\n",
            "Success! :)\n",
            " Goal: [ 0.6814821  -1.61185674], Final position: [ 0.67260329 -1.60710287], Final velocity: [0.01175084]\n",
            "score: 1.5/1.5\n",
            "Test  2\n",
            "Success! :)\n",
            " Goal: [-1.19286783 -1.28045552], Final position: [-1.20211116 -1.2837413 ], Final velocity: [0.01954085]\n",
            "score: 1.0/1.0\n",
            "NUM_LINKS: 3\n",
            "Test  1\n",
            "Success! :)\n",
            " Goal: [ 1.29444895 -2.36947292], Final position: [ 1.29211526 -2.38282071], Final velocity: [0.04590287]\n",
            "score: 1.5/1.5\n",
            "Test  2\n",
            "Success! :)\n",
            " Goal: [-2.10367746 -1.35075576], Final position: [-2.10674118 -1.3172446 ], Final velocity: [0.33499637]\n",
            "score: 1.0/1.0\n",
            "       \n",
            "-------------------------\n",
            "Part 1 SCORE:  7.5/7.5\n",
            "-------------------------\n"
          ]
        }
      ]
    },
    {
      "cell_type": "markdown",
      "metadata": {
        "id": "3O1cAx4rMce7"
      },
      "source": [
        "### Part 2.1: Model Architecture\n",
        "Beyond this point you will be focusing on the 2 link arm only.\n",
        "\n",
        "We have a base class Model and a subclass for the 2-link arm. The class Model is a base class for our models.  In compute_next_state() method,\n",
        "you have to use the trick to use joint accelerations to compute the next state similar to what you did in Project 3.\n",
        "\n",
        "In the `Model2Link` class you will use a neural network to compute the joint accelerations by implementing `compute_qddot()` method. This will take 6 values (2 joint angles, 2 joint velocities and 2 actions applied to the arm) and output 2 joint acceleration values\n",
        "\n",
        "Do not change the arguments for the `__init__()` method even if you do not use them."
      ]
    },
    {
      "cell_type": "code",
      "execution_count": null,
      "metadata": {
        "id": "iPOWJZOyMekB"
      },
      "outputs": [],
      "source": [
        "import torch\n",
        "import torch.nn as nn\n",
        "import torch.nn.functional as F\n",
        "\n",
        "class Model(nn.Module):\n",
        "\tdef __init__(self, num_links, time_step):\n",
        "\t\tsuper().__init__()\n",
        "\t\tself.num_links = num_links\n",
        "\t\tself.time_step = time_step\n",
        "\n",
        "\tdef forward(self, x):\n",
        "\t\tqddot = self.compute_qddot(x)\n",
        "\t\tstate = x[:, :2*self.num_links]\n",
        "\t\tnext_state = self.compute_next_state(state, qddot)\n",
        "\t\treturn next_state\n",
        "\n",
        "\tdef compute_next_state(self, state, qddot):\n",
        "\n",
        "\t\t# Your code goes here\n",
        "\t\t\tq = state[:, :self.num_links]\n",
        "\t\t\tqdot = state[:, self.num_links:2 * self.num_links]\n",
        "\t\t\tqdot_new = qdot + qddot * torch.tensor(self.time_step)\n",
        "\t\t\tq_new = q + torch.tensor(0.5) * (qdot + qdot_new) * torch.tensor(self.time_step)\n",
        "\n",
        "\t\t\tnext_state = torch.cat([q_new, qdot_new], dim=1)\n",
        "\t\t\treturn next_state\n",
        "\n",
        "\n",
        "\tdef compute_qddot(self, x):\n",
        "\t\tpass\n",
        "\n",
        "\n",
        "class Model2Link(Model):\n",
        "    def __init__(self, time_step):\n",
        "        super().__init__(2, time_step)\n",
        "\n",
        "        self.fc1 = nn.Linear(6, 256)\n",
        "        self.fc2 = nn.Linear(256, 2)\n",
        "        # self.fc3 = nn.Linear(64, 32)\n",
        "        # self.fc4 = nn.Linear(32, 2)\n",
        "\n",
        "    def compute_qddot(self, x):\n",
        "        x = torch.relu(self.fc1(x))\n",
        "        # x = torch.relu(self.fc2(x))\n",
        "        # x = torch.relu(self.fc3(x))\n",
        "        x = self.fc2(x)\n",
        "        return x"
      ]
    },
    {
      "cell_type": "markdown",
      "metadata": {
        "id": "xYr1nkuIUQpj"
      },
      "source": [
        "### Part 2.2: Collect Data\n",
        "Similar to project 3, we will collect data which will be used to learn a forward model for our 2 link robot arm. Once we have learnt a forward model you will be evaluated on your MPC Controller that uses the learnt dynamics model instead of the true dynamics.\n",
        "\n",
        "You can modify the collect_data function or write any of your own functions however you choose to. You will be evaluated on the **2 Link Robot**"
      ]
    },
    {
      "cell_type": "code",
      "execution_count": null,
      "metadata": {
        "id": "qfli4gFgYA-_"
      },
      "outputs": [],
      "source": [
        "# Teacher arm with 3 links\n",
        "dynamics_teacher = ArmDynamicsTeacher(\n",
        "    num_links=2,\n",
        "    link_mass=0.1,\n",
        "    link_length=1,\n",
        "    joint_viscous_friction=0.1,\n",
        "    dt=0.01)\n",
        "\n",
        "arm = Robot(dynamics_teacher)\n",
        "arm.reset()\n",
        "\n",
        "\n",
        "def collect_data(arm):\n",
        "\n",
        "  # ---\n",
        "  # You code goes here. Replace the X, and Y by your collected data\n",
        "  # Control the arm to collect a dataset for training the forward dynamics.\n",
        "  mpc_controller = MPC()\n",
        "  num_inter = 16\n",
        "  num_samples = num_inter * 250\n",
        "  state_dim = arm.dynamics.get_state_dim()\n",
        "  action_dim = arm.dynamics.get_action_dim()\n",
        "  X = np.zeros((num_samples, state_dim + action_dim))\n",
        "  Y = np.zeros((num_samples, state_dim))\n",
        "  goal = np.zeros((num_inter, 2))\n",
        "\n",
        "  for i in range(num_inter):\n",
        "    if i%16 == 0:\n",
        "      np.random.seed(0)\n",
        "    r = np.random.uniform(0.05, 1.95)\n",
        "    theta = np.random.uniform(np.pi, 2.0 * np.pi)\n",
        "    goal[i, 0] = r * np.cos(theta)\n",
        "    goal[i, 1] = r * np.sin(theta)\n",
        "  # print(goal)\n",
        "  num = 0\n",
        "  for i in range(num_inter):\n",
        "      arm.reset()\n",
        "      action = np.zeros((action_dim, 1))\n",
        "      for j in range(250):\n",
        "          state = arm.get_state()\n",
        "          if j % controller.control_horizon == 0:\n",
        "            state = arm.get_state()\n",
        "            action = controller.compute_action(arm.dynamics, state, np.reshape(goal[i], (2, 1)), action)\n",
        "            arm.set_action(action)\n",
        "          action = action.copy()\n",
        "          X[num, :state_dim] = np.ravel(state)\n",
        "          X[num, state_dim:] = np.ravel(action)\n",
        "          arm.advance()\n",
        "          Y[num] = arm.get_state().flatten()\n",
        "          num += 1\n",
        "\n",
        "\n",
        "  X = np.concatenate([X] * 150, axis=0)\n",
        "  Y = np.concatenate([Y] * 150, axis=0)\n",
        "  return X, Y\n",
        "\n",
        "\n"
      ]
    },
    {
      "cell_type": "code",
      "execution_count": null,
      "metadata": {
        "id": "53Qtg48i9_LZ"
      },
      "outputs": [],
      "source": [
        "import pickle\n",
        "\n",
        "# Call the function you have defined above to collect data\n",
        "X, Y = collect_data(arm)\n",
        "save_dir = 'dataset'\n",
        "if not os.path.exists(save_dir):\n",
        "  os.makedirs(save_dir)\n",
        "\n",
        "# Save the collected data in the data.pkl file\n",
        "data = {'X': X, 'Y': Y}\n",
        "pickle.dump(data, open(os.path.join(save_dir, 'data.pkl'), \"wb\" ))"
      ]
    },
    {
      "cell_type": "markdown",
      "metadata": {
        "id": "drBZgkLxf-O-"
      },
      "source": [
        "### Part 2.3: Training the forward model\n",
        "By now you would be familiar with the basic skeleton of training a forward model.\n",
        "\n",
        "The starter code already creates the dataset class and loads the dataset with a random 0.8/0.2 train/test split for you. This script should save the model that it trains. You should use a specific procedure for saving, outlined below.\n",
        "\n",
        "In machine learning, it is a very good practice to save not only the final model but also the checkpoints. Our starter code already configures save_dir for you and for each epoch of your training, you should use the following code to save the model at that epoch.\n",
        "\n",
        "```\n",
        "model_folder_name = f'epoch_{epoch:04d}_loss_{test_loss:.8f}'\n",
        "if not os.path.exists(os.path.join(args.save_dir, model_folder_name)):\n",
        "    os.makedirs(os.path.join(args.save_dir, model_folder_name))\n",
        "torch.save(model.state_dict(), os.path.join(args.save_dir, model_folder_name, 'dynamics.pth'))\n",
        "print(f'model saved to {os.path.join(args.save_dir, model_folder_name, \"dynamics.pth\")}\\n')\n",
        "```\n",
        "The output from running this code should be a folder as below:\n",
        "\n",
        "```\n",
        "models/\n",
        "    2021-03-24_23-57-50/\n",
        "        epoch_0001_loss_0.00032930/\n",
        "            dynamics.pth\n",
        "        epoch_0002_loss_0.00009413/\n",
        "            dynamics.pth   \n",
        "        ...  \n",
        "```\n",
        "You can implement the functions below as you please to collect data"
      ]
    },
    {
      "cell_type": "code",
      "execution_count": null,
      "metadata": {
        "id": "0c1A-JN4gCtN"
      },
      "outputs": [],
      "source": [
        "import torch\n",
        "from torch.utils.data import Dataset, DataLoader, random_split\n",
        "import os\n",
        "import numpy as np\n",
        "import torch\n",
        "import torch.nn as nn\n",
        "import torch.nn.functional as F\n",
        "import tqdm\n",
        "import pickle\n",
        "import torch.optim as optim\n",
        "import argparse\n",
        "import time\n",
        "\n",
        "class DynamicDataset(Dataset):\n",
        "  def __init__(self, datafile):\n",
        "    data = pickle.load(open(datafile, 'rb'))\n",
        "    # X: (N, 6), Y: (N, 4)\n",
        "    self.X = data['X'].astype(np.float32)\n",
        "    self.Y = data['Y'].astype(np.float32)\n",
        "\n",
        "  def __len__(self):\n",
        "    return self.X.shape[0]\n",
        "\n",
        "  def __getitem__(self, idx):\n",
        "    return self.X[idx], self.Y[idx]\n",
        "\n",
        "\n",
        "def train_one_epoch(model, train_loader, optimizer, criterion):\n",
        "  model.train()\n",
        "  total_loss = 0\n",
        "  for X, Y in train_loader:\n",
        "    optimizer.zero_grad()\n",
        "    outputs = model(X)\n",
        "    loss = criterion(outputs, Y)\n",
        "    loss.backward()\n",
        "    optimizer.step()\n",
        "    total_loss += loss.item()\n",
        "  epoch_loss = total_loss / len(train_loader)\n",
        "  return epoch_loss\n",
        "\n",
        "def test(model, test_loader, criterion, scheduler):\n",
        "    model.eval()\n",
        "    test_loss = 0\n",
        "    with torch.no_grad():\n",
        "      for X, Y in test_loader:\n",
        "        outputs = model(X)\n",
        "        loss = criterion(outputs, Y)\n",
        "        test_loss += loss.item()\n",
        "    test_loss /= len(test_loader)\n",
        "    scheduler.step(test_loss)\n",
        "    return test_loss\n",
        "\n",
        "def train_forward_model():\n",
        "\n",
        "\t# --\n",
        "\t# Implement this function\n",
        "  # --\n",
        "\n",
        "  # Keep track of the checkpoint with the smallest test loss and save in model_path\n",
        "  model_path = None\n",
        "  max_test_loss = 1e4\n",
        "  model = Model2Link(time_step=0.01)\n",
        "\n",
        "  datafile = 'dataset/data.pkl'\n",
        "  split = 0.2\n",
        "  dataset = DynamicDataset(datafile)\n",
        "  dataset_size = len(dataset)\n",
        "  test_size = int(np.floor(split * dataset_size))\n",
        "  train_size = dataset_size - test_size\n",
        "  train_set, test_set = random_split(dataset, [train_size, test_size])\n",
        "\n",
        "  train_loader = torch.utils.data.DataLoader(train_set, batch_size=512, shuffle=True)\n",
        "  test_loader = torch.utils.data.DataLoader(test_set, batch_size=512, shuffle=True)\n",
        "\n",
        "  # The name of the directory to save all the checkpoints\n",
        "  timestr = time.strftime(\"%Y-%m-%d_%H-%M-%S\")\n",
        "  model_dir = os.path.join('models', timestr)\n",
        "\n",
        "  criterion = nn.MSELoss()\n",
        "  optimizer = torch.optim.Adam(model.parameters(), lr=0.01)\n",
        "  scheduler = torch.optim.lr_scheduler.ReduceLROnPlateau(optimizer, factor=0.8, patience=5, verbose=True, min_lr=1e-4)\n",
        "\n",
        "  epochs = 40\n",
        "  for epoch in range(1, 1 + epochs):\n",
        "    train_loss = train_one_epoch(model, train_loader, optimizer, criterion)\n",
        "    test_loss = test(model, test_loader, criterion, scheduler)\n",
        "    print(f\"Epoch {epoch}: Train Loss = {train_loss:.8f}, Test Loss = {test_loss:.8f}\")\n",
        "\n",
        "    if test_loss < max_test_loss:\n",
        "      max_test_loss = test_loss\n",
        "      model_folder_name = f'epoch_{epoch:04d}_loss_{max_test_loss:.8f}'\n",
        "      if not os.path.exists(os.path.join(model_dir, model_folder_name)):\n",
        "          os.makedirs(os.path.join(model_dir, model_folder_name))\n",
        "      model_path = os.path.join(model_dir, model_folder_name, 'dynamics.pth')\n",
        "      torch.save(model.state_dict(), os.path.join(model_dir, model_folder_name, 'dynamics.pth'))\n",
        "\n",
        "  return model_path"
      ]
    },
    {
      "cell_type": "code",
      "execution_count": null,
      "metadata": {
        "id": "g4g5oanOA2lJ",
        "colab": {
          "base_uri": "https://localhost:8080/"
        },
        "outputId": "40136b3c-06e7-484b-a571-89cdef33ab7e"
      },
      "outputs": [
        {
          "output_type": "stream",
          "name": "stdout",
          "text": [
            "Epoch 1: Train Loss = 0.00029438, Test Loss = 0.00001026\n",
            "Epoch 2: Train Loss = 0.00000587, Test Loss = 0.00000486\n",
            "Epoch 3: Train Loss = 0.00000319, Test Loss = 0.00000172\n",
            "Epoch 4: Train Loss = 0.00000260, Test Loss = 0.00000136\n",
            "Epoch 5: Train Loss = 0.00000201, Test Loss = 0.00001655\n",
            "Epoch 6: Train Loss = 0.00000200, Test Loss = 0.00000094\n",
            "Epoch 7: Train Loss = 0.00000211, Test Loss = 0.00000075\n",
            "Epoch 8: Train Loss = 0.00000157, Test Loss = 0.00000099\n",
            "Epoch 9: Train Loss = 0.00000158, Test Loss = 0.00000069\n",
            "Epoch 10: Train Loss = 0.00000165, Test Loss = 0.00000372\n",
            "Epoch 11: Train Loss = 0.00000161, Test Loss = 0.00000203\n",
            "Epoch 12: Train Loss = 0.00000146, Test Loss = 0.00000069\n",
            "Epoch 13: Train Loss = 0.00000138, Test Loss = 0.00000094\n",
            "Epoch 14: Train Loss = 0.00000139, Test Loss = 0.00000086\n",
            "Epoch 15: Train Loss = 0.00000143, Test Loss = 0.00001037\n",
            "Epoch 16: Train Loss = 0.00000126, Test Loss = 0.00000321\n",
            "Epoch 17: Train Loss = 0.00000133, Test Loss = 0.00000412\n",
            "Epoch 00018: reducing learning rate of group 0 to 8.0000e-03.\n",
            "Epoch 18: Train Loss = 0.00000117, Test Loss = 0.00000205\n",
            "Epoch 19: Train Loss = 0.00000057, Test Loss = 0.00000023\n",
            "Epoch 20: Train Loss = 0.00000088, Test Loss = 0.00000107\n",
            "Epoch 21: Train Loss = 0.00000089, Test Loss = 0.00000030\n",
            "Epoch 22: Train Loss = 0.00000072, Test Loss = 0.00000077\n",
            "Epoch 23: Train Loss = 0.00000082, Test Loss = 0.00000022\n",
            "Epoch 24: Train Loss = 0.00000082, Test Loss = 0.00000129\n",
            "Epoch 25: Train Loss = 0.00000080, Test Loss = 0.00000124\n",
            "Epoch 26: Train Loss = 0.00000067, Test Loss = 0.00000036\n",
            "Epoch 27: Train Loss = 0.00000080, Test Loss = 0.00000041\n",
            "Epoch 28: Train Loss = 0.00000063, Test Loss = 0.00000083\n",
            "Epoch 00029: reducing learning rate of group 0 to 6.4000e-03.\n",
            "Epoch 29: Train Loss = 0.00000078, Test Loss = 0.00000200\n",
            "Epoch 30: Train Loss = 0.00000030, Test Loss = 0.00000016\n",
            "Epoch 31: Train Loss = 0.00000050, Test Loss = 0.00000039\n",
            "Epoch 32: Train Loss = 0.00000049, Test Loss = 0.00000061\n",
            "Epoch 33: Train Loss = 0.00000043, Test Loss = 0.00000028\n",
            "Epoch 34: Train Loss = 0.00000050, Test Loss = 0.00000014\n",
            "Epoch 35: Train Loss = 0.00000047, Test Loss = 0.00000033\n",
            "Epoch 36: Train Loss = 0.00000044, Test Loss = 0.00000064\n",
            "Epoch 37: Train Loss = 0.00000051, Test Loss = 0.00000035\n",
            "Epoch 38: Train Loss = 0.00000042, Test Loss = 0.00000021\n",
            "Epoch 39: Train Loss = 0.00000057, Test Loss = 0.00000017\n",
            "Epoch 40: Train Loss = 0.00000052, Test Loss = 0.00000010\n"
          ]
        }
      ],
      "source": [
        "model_path = train_forward_model()"
      ]
    },
    {
      "cell_type": "markdown",
      "metadata": {
        "id": "-TWZSTyG15Es"
      },
      "source": [
        "### Part 2.4: Completing ArmDynamicsStudent\n",
        "\n",
        "After you are done with training, you need to complete ArmDynamicsStudent class following the comments below to load the saved checkpoint (in function init_model) and then use it to predict the new state given the current state and action (in function dynamics_step). Please do not modify the arguments to those functions, even though you might not use all of them."
      ]
    },
    {
      "cell_type": "code",
      "execution_count": null,
      "metadata": {
        "id": "Jc0s9sdV2hN9"
      },
      "outputs": [],
      "source": [
        "from arm_dynamics_base import ArmDynamicsBase\n",
        "\n",
        "class ArmDynamicsStudent(ArmDynamicsBase):\n",
        "    def init_model(self, model_path, num_links, time_step, device):\n",
        "        # ---\n",
        "        # Your code hoes here\n",
        "        # Initialize the model loading the saved model from provided model_path\n",
        "        checkpoint = torch.load(model_path)\n",
        "        np.random.seed(0)\n",
        "        self.model = Model2Link(time_step=0.01)\n",
        "        self.model.load_state_dict(checkpoint)\n",
        "        self.model_loaded = True\n",
        "\n",
        "    def dynamics_step(self, state, action, dt):\n",
        "        if self.model_loaded:\n",
        "            # ---\n",
        "            # Your code goes here\n",
        "            # Use the loaded model to predict new state given the current state and action\n",
        "            state = np.array(state).reshape(1, -1)\n",
        "            action = np.array(action).reshape(1, -1)\n",
        "            x = torch.from_numpy(np.concatenate((state, action),axis=1)).float()\n",
        "            new_state = self.model(x).detach().numpy().reshape(4,1)\n",
        "            return new_state\n",
        "            # ---\n",
        "        else:\n",
        "            return state"
      ]
    },
    {
      "cell_type": "markdown",
      "metadata": {
        "id": "IK686tpd3jAU"
      },
      "source": [
        "### Manually Testing the MPC Controller with the learnt dynamics model\n",
        "We will now use the learnt dynamics model that you have trained. The model is loaded in the dynamics.init_model method. You can modify the goal positions to see how well is the controller performing similar to what you did before. Feel free to play around with the code in this cell to test your performance before the grading part.\n"
      ]
    },
    {
      "cell_type": "code",
      "execution_count": null,
      "metadata": {
        "id": "GU54TdIv3JTG"
      },
      "outputs": [],
      "source": [
        "import sys\n",
        "import numpy as np\n",
        "from arm_dynamics_teacher import ArmDynamicsTeacher\n",
        "from robot import Robot\n",
        "from render import Renderer\n",
        "from score import *\n",
        "import torch\n",
        "import time\n",
        "\n",
        "# Teacher arm with 3 links\n",
        "dynamics_teacher = ArmDynamicsTeacher(\n",
        "    num_links=2,\n",
        "    link_mass=0.1,\n",
        "    link_length=1,\n",
        "    joint_viscous_friction=0.1,\n",
        "    dt=0.01)\n",
        "\n",
        "arm = Robot(dynamics_teacher)\n",
        "arm.reset()\n",
        "\n",
        "gui = False\n",
        "action = np.zeros((arm.dynamics.get_action_dim(), 1))\n",
        "if gui:\n",
        "  renderer = Renderer()\n",
        "  time.sleep(1)\n",
        "\n",
        "\n",
        "# Controller\n",
        "controller = MPC()\n",
        "dynamics_student = ArmDynamicsStudent(\n",
        "    num_links=2,\n",
        "    link_mass=0.1,\n",
        "    link_length=1,\n",
        "    joint_viscous_friction=0.1,\n",
        "    dt=0.01)\n",
        "device = torch.device('cpu')\n",
        "\n",
        "# model_path should have the path to the best model that you have trained so far\n",
        "# which you would like to use for testing the controller\n",
        "# model_path = None\n",
        "dynamics_student.init_model(model_path, 2, 0.01, device)\n",
        "\n",
        "# Control loop\n",
        "action = np.zeros((arm.dynamics.get_action_dim(), 1))\n",
        "goal = np.zeros((2, 1))\n",
        "goal[0, 0] = 2.7\n",
        "goal[1, 0] = 0.5\n",
        "arm.goal = goal\n",
        "\n",
        "dt = 0.01\n",
        "time_limit = 2.5\n",
        "num_steps = round(time_limit/dt)\n",
        "for s in range(num_steps):\n",
        "  t = time.time()\n",
        "  arm.advance()\n",
        "\n",
        "  if gui:\n",
        "    renderer.plot([(arm, \"tab:blue\")])\n",
        "  time.sleep(max(0, dt - (time.time() - t)))\n",
        "\n",
        "  if s % controller.control_horizon==0:\n",
        "    state = arm.get_state()\n",
        "    action = controller.compute_action(dynamics_student, state, goal, action)\n",
        "    arm.set_action(action)\n"
      ]
    },
    {
      "cell_type": "code",
      "source": [
        "print(model_path)"
      ],
      "metadata": {
        "colab": {
          "base_uri": "https://localhost:8080/"
        },
        "id": "uJRYQS4QG2Nb",
        "outputId": "e7a4dc22-5fe5-46d4-f0ec-276afe325f8c"
      },
      "execution_count": null,
      "outputs": [
        {
          "output_type": "stream",
          "name": "stdout",
          "text": [
            "models/2023-04-15_03-41-58/epoch_0040_loss_0.00000010/dynamics.pth\n"
          ]
        }
      ]
    },
    {
      "cell_type": "markdown",
      "source": [
        "## Grading and Evaluation of Part 2\n",
        "You will be evaluated on how well your controller+learnt dynamics works together. The scoring functions consists of 16 random test goals all of which will be below the x axis and between 0.05 to 1.95 lengths away from the origin.\n",
        "The controller will call the compute_action method from your MPC class and apply the action for 10 timesteps\n",
        "```\n",
        "action = controller.compute_action(dynamics_student, state, goal, action)\n",
        "```\n",
        "\n",
        "Each test will run the robot arm for **2.5 seconds**. At the end of the 2.5 seconds the test will be:\n",
        "\n",
        "A success if your end effectors meet this criteria:\n",
        "`distance_to_goal < 0.2 and vel_ee < 0.5`\n",
        "\n",
        "A partial success if your end effectors meet this criteria:\n",
        "`distance_to_goal < 0.3 and vel_ee < 0.5`\n",
        "\n",
        "You need 15 out of the 16 tests to succeed to get a full score"
      ],
      "metadata": {
        "id": "tn1RPPnLxrpf"
      }
    },
    {
      "cell_type": "code",
      "execution_count": null,
      "metadata": {
        "id": "B28gYRyYEgrz"
      },
      "outputs": [],
      "source": [
        "controller = MPC()\n",
        "dynamics_student = ArmDynamicsStudent(\n",
        "    num_links=2,\n",
        "    link_mass=0.1,\n",
        "    link_length=1,\n",
        "    joint_viscous_friction=0.1,\n",
        "    dt=0.01)\n",
        "# model_path = 'dynamics.pth'\n",
        "gui=False"
      ]
    },
    {
      "cell_type": "code",
      "source": [
        "# DO NOT CHANGE\n",
        "score_mpc_learnt_dynamics(controller, dynamics_student, model_path, gui)"
      ],
      "metadata": {
        "id": "JgmrICx-1MGg",
        "colab": {
          "base_uri": "https://localhost:8080/"
        },
        "outputId": "3cb4b5cb-b0b7-4051-d4e1-54bbe42b4fd1"
      },
      "execution_count": null,
      "outputs": [
        {
          "output_type": "stream",
          "name": "stdout",
          "text": [
            "Part2: EVALUATING CONTROLLER + LEARNED DYNAMICS\n",
            "-----------------------------------------------\n",
            "NUM_LINKS: 2\n",
            "Test  1\n",
            "Success! :)\n",
            " Goal: [ 0.68373842 -0.85240533], Final position: [ 0.68779765 -0.85275603], Final velocity: [0.1426074]\n",
            "score: 0.5/0.5\n",
            "Test  2\n",
            "Success! :)\n",
            " Goal: [ 0.16797797 -1.18338791], Final position: [ 0.14013908 -1.17767678], Final velocity: [0.04992791]\n",
            "score: 0.5/0.5\n",
            "Test  3\n",
            "Success! :)\n",
            " Goal: [ 0.37827852 -0.76670386], Final position: [ 0.38200535 -0.71771831], Final velocity: [0.06502548]\n",
            "score: 0.5/0.5\n",
            "Test  4\n",
            "Success! :)\n",
            " Goal: [ 0.83095725 -0.29394504], Final position: [ 0.77717554 -0.36765613], Final velocity: [0.22022435]\n",
            "score: 0.5/0.5\n",
            "Test  5\n",
            "Success! :)\n",
            " Goal: [-0.67347864 -1.75625573], Final position: [-0.63230041 -1.77337382], Final velocity: [0.0038874]\n",
            "score: 0.5/0.5\n",
            "Test  6\n",
            "Success! :)\n",
            " Goal: [ 0.14089751 -1.54787812], Final position: [ 0.15285808 -1.54652678], Final velocity: [0.02590842]\n",
            "score: 0.5/0.5\n",
            "Test  7\n",
            "Success! :)\n",
            " Goal: [ 1.09857465 -0.26156757], Final position: [ 0.99909664 -0.30326942], Final velocity: [0.0717522]\n",
            "score: 0.5/0.5\n",
            "Test  8\n",
            "Fail :(\n",
            " Goal: [-0.17808226 -0.05000058], Final position: [-0.50846027 -0.6576785 ], Final velocity: [0.08181162]\n",
            "score: 0/0.5\n",
            "Test  9\n",
            "Success! :)\n",
            " Goal: [ 0.07647031 -0.044379  ], Final position: [-0.02980545  0.00680211], Final velocity: [0.15550335]\n",
            "score: 0.5/0.5\n",
            "Test  10\n",
            "Success! :)\n",
            " Goal: [ 1.40280912 -0.60698615], Final position: [ 1.31456975 -0.73826213], Final velocity: [0.10665451]\n",
            "score: 0.5/0.5\n",
            "Test  11\n",
            "Success! :)\n",
            " Goal: [ 1.54174456 -1.12638183], Final position: [ 1.52880398 -1.12966316], Final velocity: [0.11868889]\n",
            "score: 0.5/0.5\n",
            "Test  12\n",
            "Success! :)\n",
            " Goal: [ 0.71510113 -0.58958342], Final position: [ 0.69623418 -0.61095867], Final velocity: [0.08248717]\n",
            "score: 0.5/0.5\n",
            "Test  13\n",
            "Success! :)\n",
            " Goal: [ 0.11690901 -0.24860438], Final position: [ 0.17236011 -0.07817192], Final velocity: [0.11085589]\n",
            "score: 0.5/0.5\n",
            "Test  14\n",
            "Success! :)\n",
            " Goal: [ 0.3175131  -0.05575528], Final position: [ 0.27763703 -0.08094703], Final velocity: [0.00803636]\n",
            "score: 0.5/0.5\n",
            "Test  15\n",
            "Success! :)\n",
            " Goal: [-0.27589367 -1.0043055 ], Final position: [-0.2655357  -1.04236808], Final velocity: [0.03822856]\n",
            "score: 0.5/0.5\n",
            "Test  16\n",
            "Success! :)\n",
            " Goal: [ 0.41937737 -0.35993181], Final position: [ 0.44350539 -0.37747598], Final velocity: [0.04305071]\n",
            "score: 0.5/0.5\n",
            "       \n",
            "-------------------------\n",
            "Part 2 SCORE:  7.5/7.5\n",
            "-------------------------\n"
          ]
        }
      ]
    },
    {
      "cell_type": "markdown",
      "metadata": {
        "id": "z5lIxv47dgEm"
      },
      "source": [
        "Hints and Suggestions:\n",
        "1. You can use your MPC Controller in your data collection to gather better training samples\n",
        "2. A good cost function to evaluate your trajectory in MPC is very important and you can use both distance and velocity metrics to define the cost function.\n",
        "3. As mentioned in the lecture, a constant torque with pseudo gradients seems to work well for this project. You can also use multiple delta values to gather more trajectories to choose from.\n",
        "4. Since we are passing the MPC object to the controller you can instantiate the MPC class with different parameters like the planning horizon, delta values etc.\n",
        "5. To speed up data collection, avoid using np.concatenate(), np.stack() or np.append() like functions on your X and Y arrays. Instead, initialize X and Y arrays with all zeros using the correct shape and then fill in the values one by one. This is much faster in numpy"
      ]
    }
  ],
  "metadata": {
    "colab": {
      "provenance": [],
      "include_colab_link": true
    },
    "kernelspec": {
      "display_name": "Python 3",
      "name": "python3"
    },
    "language_info": {
      "name": "python"
    }
  },
  "nbformat": 4,
  "nbformat_minor": 0
}